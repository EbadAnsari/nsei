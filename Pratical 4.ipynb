{
 "cells": [
  {
   "cell_type": "code",
   "execution_count": 1,
   "metadata": {},
   "outputs": [],
   "source": [
    "import pandas as pd\n",
    "import numpy as np\n",
    "\n",
    "from sklearn.tree import DecisionTreeClassifier\n",
    "from sklearn.linear_model import LogisticRegression\n",
    "from sklearn.neighbors import KNeighborsClassifier\n",
    "from sklearn.svm import SVC\n",
    "\n",
    "from sklearn.model_selection import GridSearchCV, train_test_split\n",
    "\n",
    "from sklearn.metrics import accuracy_score, recall_score, precision_score, f1_score\n",
    "\n",
    "from scipy import stats"
   ]
  },
  {
   "cell_type": "code",
   "execution_count": 2,
   "metadata": {},
   "outputs": [],
   "source": [
    "oldDf = pd.read_csv(\"Old NSEI.csv\")"
   ]
  },
  {
   "cell_type": "code",
   "execution_count": 3,
   "metadata": {},
   "outputs": [],
   "source": [
    "newDf = pd.read_csv(\"New NSEI.csv\")"
   ]
  },
  {
   "cell_type": "code",
   "execution_count": 4,
   "metadata": {},
   "outputs": [],
   "source": [
    "def ruleOne(row):\n",
    "    if row['Open'] > row['Close']:\n",
    "        return 0\n",
    "    return 1\n",
    "\n",
    "def ruleTwo(row):\n",
    "    if row['Open'] == row['Low']:\n",
    "        return 0\n",
    "    elif row['Open'] == row['High']:\n",
    "        return 1\n",
    "    elif row['Open'] > np.mean([row['High'], row['Low']]):\n",
    "        return 0\n",
    "    return 1"
   ]
  },
  {
   "cell_type": "code",
   "execution_count": 5,
   "metadata": {},
   "outputs": [],
   "source": [
    "oldDf['Rule 1'] = oldDf.apply(ruleOne, axis=1)\n",
    "oldDf['Rule 2'] = oldDf.apply(ruleTwo, axis=1)\n",
    "oldDf['TP'] = oldDf[['High', 'Low', 'Close']].mean(axis=1)\n",
    "oldDf['Rule 3'] = (oldDf['TP'] < oldDf['TP'].shift(1)).astype(int)\n",
    "oldDf['classifier'] = stats.mode(oldDf[['Rule 1', 'Rule 2', 'Rule 3']], axis=1).mode\n",
    "\n",
    "newDf['Rule 1'] = newDf.apply(ruleOne, axis=1)\n",
    "newDf['Rule 2'] = newDf.apply(ruleTwo, axis=1)\n",
    "newDf['TP'] = newDf[['High', 'Low', 'Close']].mean(axis=1)\n",
    "newDf['Rule 3'] = (newDf['TP'] < newDf['TP'].shift(1)).astype(int)\n",
    "newDf['classifier'] = stats.mode(newDf[['Rule 1', 'Rule 2', 'Rule 3']], axis=1).mode"
   ]
  },
  {
   "cell_type": "code",
   "execution_count": 15,
   "metadata": {},
   "outputs": [],
   "source": [
    "table = pd.DataFrame(columns=[\"Accuracy\", \"Precision\", \"Recall\", \"F1\"])"
   ]
  },
  {
   "cell_type": "code",
   "execution_count": null,
   "metadata": {},
   "outputs": [],
   "source": [
    "xOld = oldDf[['Open', 'Close', 'High', 'Low']]\n",
    "yOld = oldDf['classifier']\n",
    "\n",
    "xNew = newDf[['Open', 'Close', 'High', 'Low']]\n",
    "yNew = newDf['classifier']"
   ]
  },
  {
   "cell_type": "code",
   "execution_count": 18,
   "metadata": {},
   "outputs": [],
   "source": [
    "lr = LogisticRegression()\n",
    "lr.fit(xOld, yOld)\n",
    "yPred = lr.predict(xNew)\n",
    "\n",
    "table.loc[\"LogisticRegression\"] = [\n",
    "    accuracy_score(yNew, yPred),\n",
    "    precision_score(yNew, yPred),\n",
    "    recall_score(yNew, yPred),\n",
    "    f1_score(yNew, yPred)\n",
    "]"
   ]
  },
  {
   "cell_type": "code",
   "execution_count": 19,
   "metadata": {},
   "outputs": [
    {
     "data": {
      "application/vnd.microsoft.datawrangler.viewer.v0+json": {
       "columns": [
        {
         "name": "index",
         "rawType": "object",
         "type": "string"
        },
        {
         "name": "Accuracy",
         "rawType": "float64",
         "type": "float"
        },
        {
         "name": "Precision",
         "rawType": "float64",
         "type": "float"
        },
        {
         "name": "Recall",
         "rawType": "float64",
         "type": "float"
        },
        {
         "name": "F1",
         "rawType": "float64",
         "type": "float"
        }
       ],
       "conversionMethod": "pd.DataFrame",
       "ref": "277fdd56-1152-4bab-9d11-f6bcb4bc5648",
       "rows": [
        [
         "LogisticRegression",
         "0.9166666666666666",
         "0.8235294117647058",
         "1.0",
         "0.9032258064516129"
        ],
        [
         "KNeighborsClassifier",
         "0.6944444444444444",
         "0.6666666666666666",
         "0.42857142857142855",
         "0.5217391304347826"
        ]
       ],
       "shape": {
        "columns": 4,
        "rows": 2
       }
      },
      "text/html": [
       "<div>\n",
       "<style scoped>\n",
       "    .dataframe tbody tr th:only-of-type {\n",
       "        vertical-align: middle;\n",
       "    }\n",
       "\n",
       "    .dataframe tbody tr th {\n",
       "        vertical-align: top;\n",
       "    }\n",
       "\n",
       "    .dataframe thead th {\n",
       "        text-align: right;\n",
       "    }\n",
       "</style>\n",
       "<table border=\"1\" class=\"dataframe\">\n",
       "  <thead>\n",
       "    <tr style=\"text-align: right;\">\n",
       "      <th></th>\n",
       "      <th>Accuracy</th>\n",
       "      <th>Precision</th>\n",
       "      <th>Recall</th>\n",
       "      <th>F1</th>\n",
       "    </tr>\n",
       "  </thead>\n",
       "  <tbody>\n",
       "    <tr>\n",
       "      <th>LogisticRegression</th>\n",
       "      <td>0.916667</td>\n",
       "      <td>0.823529</td>\n",
       "      <td>1.000000</td>\n",
       "      <td>0.903226</td>\n",
       "    </tr>\n",
       "    <tr>\n",
       "      <th>KNeighborsClassifier</th>\n",
       "      <td>0.694444</td>\n",
       "      <td>0.666667</td>\n",
       "      <td>0.428571</td>\n",
       "      <td>0.521739</td>\n",
       "    </tr>\n",
       "  </tbody>\n",
       "</table>\n",
       "</div>"
      ],
      "text/plain": [
       "                      Accuracy  Precision    Recall        F1\n",
       "LogisticRegression    0.916667   0.823529  1.000000  0.903226\n",
       "KNeighborsClassifier  0.694444   0.666667  0.428571  0.521739"
      ]
     },
     "execution_count": 19,
     "metadata": {},
     "output_type": "execute_result"
    }
   ],
   "source": [
    "knn = KNeighborsClassifier()\n",
    "knn.fit(xOld, yOld)\n",
    "yPred = knn.predict(xNew)\n",
    "\n",
    "table.loc[\"KNeighborsClassifier\"] = [\n",
    "    accuracy_score(yNew, yPred),\n",
    "    precision_score(yNew, yPred),\n",
    "    recall_score(yNew, yPred),\n",
    "    f1_score(yNew, yPred)\n",
    "]\n",
    "\n",
    "table.head()"
   ]
  },
  {
   "cell_type": "code",
   "execution_count": 20,
   "metadata": {},
   "outputs": [
    {
     "name": "stderr",
     "output_type": "stream",
     "text": [
      "C:\\Users\\cw\\AppData\\Roaming\\Python\\Python313\\site-packages\\sklearn\\metrics\\_classification.py:1531: UndefinedMetricWarning: Precision is ill-defined and being set to 0.0 due to no predicted samples. Use `zero_division` parameter to control this behavior.\n",
      "  _warn_prf(average, modifier, f\"{metric.capitalize()} is\", len(result))\n"
     ]
    },
    {
     "data": {
      "application/vnd.microsoft.datawrangler.viewer.v0+json": {
       "columns": [
        {
         "name": "index",
         "rawType": "object",
         "type": "string"
        },
        {
         "name": "Accuracy",
         "rawType": "float64",
         "type": "float"
        },
        {
         "name": "Precision",
         "rawType": "float64",
         "type": "float"
        },
        {
         "name": "Recall",
         "rawType": "float64",
         "type": "float"
        },
        {
         "name": "F1",
         "rawType": "float64",
         "type": "float"
        }
       ],
       "conversionMethod": "pd.DataFrame",
       "ref": "ab748a5c-6846-41b0-8ce1-421358f6c1bc",
       "rows": [
        [
         "LogisticRegression",
         "0.9166666666666666",
         "0.8235294117647058",
         "1.0",
         "0.9032258064516129"
        ],
        [
         "KNeighborsClassifier",
         "0.6944444444444444",
         "0.6666666666666666",
         "0.42857142857142855",
         "0.5217391304347826"
        ],
        [
         "SVC",
         "0.6111111111111112",
         "0.0",
         "0.0",
         "0.0"
        ]
       ],
       "shape": {
        "columns": 4,
        "rows": 3
       }
      },
      "text/html": [
       "<div>\n",
       "<style scoped>\n",
       "    .dataframe tbody tr th:only-of-type {\n",
       "        vertical-align: middle;\n",
       "    }\n",
       "\n",
       "    .dataframe tbody tr th {\n",
       "        vertical-align: top;\n",
       "    }\n",
       "\n",
       "    .dataframe thead th {\n",
       "        text-align: right;\n",
       "    }\n",
       "</style>\n",
       "<table border=\"1\" class=\"dataframe\">\n",
       "  <thead>\n",
       "    <tr style=\"text-align: right;\">\n",
       "      <th></th>\n",
       "      <th>Accuracy</th>\n",
       "      <th>Precision</th>\n",
       "      <th>Recall</th>\n",
       "      <th>F1</th>\n",
       "    </tr>\n",
       "  </thead>\n",
       "  <tbody>\n",
       "    <tr>\n",
       "      <th>LogisticRegression</th>\n",
       "      <td>0.916667</td>\n",
       "      <td>0.823529</td>\n",
       "      <td>1.000000</td>\n",
       "      <td>0.903226</td>\n",
       "    </tr>\n",
       "    <tr>\n",
       "      <th>KNeighborsClassifier</th>\n",
       "      <td>0.694444</td>\n",
       "      <td>0.666667</td>\n",
       "      <td>0.428571</td>\n",
       "      <td>0.521739</td>\n",
       "    </tr>\n",
       "    <tr>\n",
       "      <th>SVC</th>\n",
       "      <td>0.611111</td>\n",
       "      <td>0.000000</td>\n",
       "      <td>0.000000</td>\n",
       "      <td>0.000000</td>\n",
       "    </tr>\n",
       "  </tbody>\n",
       "</table>\n",
       "</div>"
      ],
      "text/plain": [
       "                      Accuracy  Precision    Recall        F1\n",
       "LogisticRegression    0.916667   0.823529  1.000000  0.903226\n",
       "KNeighborsClassifier  0.694444   0.666667  0.428571  0.521739\n",
       "SVC                   0.611111   0.000000  0.000000  0.000000"
      ]
     },
     "execution_count": 20,
     "metadata": {},
     "output_type": "execute_result"
    }
   ],
   "source": [
    "svc = SVC()\n",
    "svc.fit(xOld, yOld)\n",
    "yPred = svc.predict(xNew)\n",
    "\n",
    "table.loc[\"SVC\"] = [\n",
    "    accuracy_score(yNew, yPred),\n",
    "    precision_score(yNew, yPred),\n",
    "    recall_score(yNew, yPred),\n",
    "    f1_score(yNew, yPred)\n",
    "]\n",
    "\n",
    "table.head()"
   ]
  },
  {
   "cell_type": "code",
   "execution_count": null,
   "metadata": {},
   "outputs": [
    {
     "data": {
      "application/vnd.microsoft.datawrangler.viewer.v0+json": {
       "columns": [
        {
         "name": "index",
         "rawType": "object",
         "type": "string"
        },
        {
         "name": "Accuracy",
         "rawType": "float64",
         "type": "float"
        },
        {
         "name": "Precision",
         "rawType": "float64",
         "type": "float"
        },
        {
         "name": "Recall",
         "rawType": "float64",
         "type": "float"
        },
        {
         "name": "F1",
         "rawType": "float64",
         "type": "float"
        }
       ],
       "conversionMethod": "pd.DataFrame",
       "ref": "2d2fa3b1-4f4a-45c1-a5d6-c27d609dd1f5",
       "rows": [
        [
         "LogisticRegression",
         "0.9166666666666666",
         "0.8235294117647058",
         "1.0",
         "0.9032258064516129"
        ],
        [
         "KNeighborsClassifier",
         "0.6944444444444444",
         "0.6666666666666666",
         "0.42857142857142855",
         "0.5217391304347826"
        ],
        [
         "SVC",
         "0.6111111111111112",
         "0.0",
         "0.0",
         "0.0"
        ],
        [
         "DecisionTreeClassifier",
         "0.6944444444444444",
         "0.6666666666666666",
         "0.42857142857142855",
         "0.5217391304347826"
        ]
       ],
       "shape": {
        "columns": 4,
        "rows": 4
       }
      },
      "text/html": [
       "<div>\n",
       "<style scoped>\n",
       "    .dataframe tbody tr th:only-of-type {\n",
       "        vertical-align: middle;\n",
       "    }\n",
       "\n",
       "    .dataframe tbody tr th {\n",
       "        vertical-align: top;\n",
       "    }\n",
       "\n",
       "    .dataframe thead th {\n",
       "        text-align: right;\n",
       "    }\n",
       "</style>\n",
       "<table border=\"1\" class=\"dataframe\">\n",
       "  <thead>\n",
       "    <tr style=\"text-align: right;\">\n",
       "      <th></th>\n",
       "      <th>Accuracy</th>\n",
       "      <th>Precision</th>\n",
       "      <th>Recall</th>\n",
       "      <th>F1</th>\n",
       "    </tr>\n",
       "  </thead>\n",
       "  <tbody>\n",
       "    <tr>\n",
       "      <th>LogisticRegression</th>\n",
       "      <td>0.916667</td>\n",
       "      <td>0.823529</td>\n",
       "      <td>1.000000</td>\n",
       "      <td>0.903226</td>\n",
       "    </tr>\n",
       "    <tr>\n",
       "      <th>KNeighborsClassifier</th>\n",
       "      <td>0.694444</td>\n",
       "      <td>0.666667</td>\n",
       "      <td>0.428571</td>\n",
       "      <td>0.521739</td>\n",
       "    </tr>\n",
       "    <tr>\n",
       "      <th>SVC</th>\n",
       "      <td>0.611111</td>\n",
       "      <td>0.000000</td>\n",
       "      <td>0.000000</td>\n",
       "      <td>0.000000</td>\n",
       "    </tr>\n",
       "    <tr>\n",
       "      <th>DecisionTreeClassifier</th>\n",
       "      <td>0.694444</td>\n",
       "      <td>0.666667</td>\n",
       "      <td>0.428571</td>\n",
       "      <td>0.521739</td>\n",
       "    </tr>\n",
       "  </tbody>\n",
       "</table>\n",
       "</div>"
      ],
      "text/plain": [
       "                        Accuracy  Precision    Recall        F1\n",
       "LogisticRegression      0.916667   0.823529  1.000000  0.903226\n",
       "KNeighborsClassifier    0.694444   0.666667  0.428571  0.521739\n",
       "SVC                     0.611111   0.000000  0.000000  0.000000\n",
       "DecisionTreeClassifier  0.694444   0.666667  0.428571  0.521739"
      ]
     },
     "execution_count": 23,
     "metadata": {},
     "output_type": "execute_result"
    }
   ],
   "source": [
    "tree = DecisionTreeClassifier()\n",
    "tree.fit(xOld, yOld)\n",
    "yPred = tree.predict(xNew)\n",
    "\n",
    "table.loc[\"DecisionTreeClassifier\"] = [\n",
    "    accuracy_score(yNew, yPred),\n",
    "    precision_score(yNew, yPred),\n",
    "    recall_score(yNew, yPred),\n",
    "    f1_score(yNew, yPred)\n",
    "]\n",
    "\n",
    "table.head()\n",
    "\n",
    "# table.to_csv(\"Comparative Analysis.csv\")"
   ]
  }
 ],
 "metadata": {
  "kernelspec": {
   "display_name": "Python 3",
   "language": "python",
   "name": "python3"
  },
  "language_info": {
   "codemirror_mode": {
    "name": "ipython",
    "version": 3
   },
   "file_extension": ".py",
   "mimetype": "text/x-python",
   "name": "python",
   "nbconvert_exporter": "python",
   "pygments_lexer": "ipython3",
   "version": "3.13.0"
  }
 },
 "nbformat": 4,
 "nbformat_minor": 2
}
