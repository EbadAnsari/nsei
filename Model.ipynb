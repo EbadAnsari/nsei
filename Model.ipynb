{
 "cells": [
  {
   "cell_type": "code",
   "execution_count": 2,
   "metadata": {},
   "outputs": [],
   "source": [
    "import pandas as pd\n",
    "import numpy as np\n",
    "\n",
    "from sklearn.tree import DecisionTreeClassifier\n",
    "from sklearn.linear_model import LogisticRegression\n",
    "from sklearn.neighbors import KNeighborsClassifier\n",
    "from sklearn.svm import SVC\n",
    "\n",
    "from sklearn.model_selection import GridSearchCV\n",
    "\n",
    "from sklearn.metrics import accuracy_score\n",
    "\n",
    "from scipy import stats"
   ]
  },
  {
   "cell_type": "code",
   "execution_count": 3,
   "metadata": {},
   "outputs": [],
   "source": [
    "df = pd.read_csv(\"NSEI.csv\")"
   ]
  },
  {
   "cell_type": "markdown",
   "metadata": {},
   "source": [
    "##### Preparing data"
   ]
  },
  {
   "cell_type": "markdown",
   "metadata": {},
   "source": [
    "Drop column 'Adj Close'"
   ]
  },
  {
   "cell_type": "code",
   "execution_count": 4,
   "metadata": {},
   "outputs": [
    {
     "data": {
      "application/vnd.microsoft.datawrangler.viewer.v0+json": {
       "columns": [
        {
         "name": "index",
         "rawType": "int64",
         "type": "integer"
        },
        {
         "name": "Date",
         "rawType": "object",
         "type": "string"
        },
        {
         "name": "Open",
         "rawType": "float64",
         "type": "float"
        },
        {
         "name": "High",
         "rawType": "float64",
         "type": "float"
        },
        {
         "name": "Low",
         "rawType": "float64",
         "type": "float"
        },
        {
         "name": "Close",
         "rawType": "float64",
         "type": "float"
        },
        {
         "name": "Volume",
         "rawType": "float64",
         "type": "float"
        }
       ],
       "conversionMethod": "pd.DataFrame",
       "ref": "03625090-466f-40f5-95fe-8f6b91b6c76c",
       "rows": [
        [
         "0",
         "2025-02-14",
         "23096.45",
         "23133.7",
         "22774.85",
         "22929.25",
         "254500.0"
        ],
        [
         "1",
         "2025-02-13",
         "23055.75",
         "23235.5",
         "22992.2",
         "23031.4",
         "265700.0"
        ],
        [
         "2",
         "2025-02-12",
         "23050.8",
         "23144.7",
         "22798.35",
         "23045.25",
         "279700.0"
        ],
        [
         "3",
         "2025-02-11",
         "23383.55",
         "23390.05",
         "22986.65",
         "23071.8",
         "268000.0"
        ],
        [
         "4",
         "2025-02-10",
         "23543.8",
         "23568.6",
         "23316.3",
         "23381.6",
         "234200.0"
        ],
        [
         "5",
         "2025-02-07",
         "23649.5",
         "23694.5",
         "23443.2",
         "23559.95",
         "368100.0"
        ],
        [
         "6",
         "2025-02-06",
         "23761.95",
         "23773.55",
         "23556.25",
         "23603.35",
         "307000.0"
        ],
        [
         "7",
         "2025-02-05",
         "23801.75",
         "23807.3",
         "23680.45",
         "23696.3",
         "267000.0"
        ],
        [
         "8",
         "2025-02-04",
         "23509.9",
         "23762.75",
         "23423.15",
         "23739.25",
         "376700.0"
        ],
        [
         "9",
         "2025-02-03",
         "23319.35",
         "23381.6",
         "23222.0",
         "23361.05",
         "329700.0"
        ],
        [
         "10",
         "2025-01-31",
         "23296.75",
         "23546.8",
         "23277.4",
         "23508.4",
         "304900.0"
        ],
        [
         "11",
         "2025-01-30",
         "23169.5",
         "23322.05",
         "23139.2",
         "23249.5",
         "361900.0"
        ],
        [
         "12",
         "2025-01-29",
         "23026.75",
         "23183.35",
         "22976.5",
         "23163.1",
         "226300.0"
        ],
        [
         "13",
         "2025-01-28",
         "22960.45",
         "23137.95",
         "22857.65",
         "22957.25",
         "361900.0"
        ],
        [
         "14",
         "2025-01-27",
         "22940.15",
         "23007.45",
         "22786.9",
         "22829.15",
         "257400.0"
        ],
        [
         "15",
         "2025-01-24",
         "23183.9",
         "23347.3",
         "23050.0",
         "23092.2",
         "264300.0"
        ],
        [
         "16",
         "2025-01-23",
         "23128.3",
         "23270.8",
         "23090.65",
         "23205.35",
         "275600.0"
        ],
        [
         "17",
         "2025-01-22",
         "23099.15",
         "23169.55",
         "22981.3",
         "23155.35",
         "276000.0"
        ],
        [
         "18",
         "2025-01-21",
         "23421.65",
         "23426.3",
         "22976.85",
         "23024.65",
         "312900.0"
        ],
        [
         "19",
         "2025-01-20",
         "23290.4",
         "23391.1",
         "23170.65",
         "23344.75",
         "301500.0"
        ],
        [
         "20",
         "2025-01-17",
         "23277.1",
         "23292.1",
         "23100.35",
         "23203.2",
         "272900.0"
        ],
        [
         "21",
         "2025-01-16",
         "23377.25",
         "23391.65",
         "23272.05",
         "23311.8",
         "299400.0"
        ],
        [
         "22",
         "2025-01-15",
         "23250.45",
         "23293.65",
         "23146.45",
         "23213.2",
         "228000.0"
        ],
        [
         "23",
         "2025-01-14",
         "23165.9",
         "23264.95",
         "23134.15",
         "23176.05",
         "311200.0"
        ],
        [
         "24",
         "2025-01-13",
         "23195.4",
         "23340.95",
         "23047.25",
         "23085.95",
         "316500.0"
        ],
        [
         "25",
         "2025-01-10",
         "23551.9",
         "23596.6",
         "23344.35",
         "23431.5",
         "261000.0"
        ],
        [
         "26",
         "2025-01-09",
         "23674.75",
         "23689.5",
         "23503.05",
         "23526.5",
         "269200.0"
        ],
        [
         "27",
         "2025-01-08",
         "23746.65",
         "23751.85",
         "23496.15",
         "23688.95",
         "266400.0"
        ],
        [
         "28",
         "2025-01-07",
         "23679.9",
         "23795.2",
         "23637.8",
         "23707.9",
         "262300.0"
        ],
        [
         "29",
         "2025-01-06",
         "24045.8",
         "24089.95",
         "23551.9",
         "23616.05",
         "278100.0"
        ],
        [
         "30",
         "2025-01-03",
         "24196.4",
         "24196.45",
         "23976.0",
         "24004.75",
         "312300.0"
        ],
        [
         "31",
         "2025-01-02",
         "23783.0",
         "24226.7",
         "23751.55",
         "24188.65",
         "283200.0"
        ],
        [
         "32",
         "2025-01-01",
         "23637.65",
         "23822.8",
         "23562.8",
         "23742.9",
         "154900.0"
        ],
        [
         "33",
         "2024-12-31",
         "23560.6",
         "23689.85",
         "23460.45",
         "23644.8",
         "193600.0"
        ],
        [
         "34",
         "2024-12-30",
         "23796.9",
         "23915.35",
         "23599.3",
         "23644.9",
         "364900.0"
        ],
        [
         "35",
         "2024-12-27",
         "23801.4",
         "23938.85",
         "23800.6",
         "23813.4",
         "176800.0"
        ],
        [
         "36",
         "2024-12-26",
         "23775.8",
         "23854.5",
         "23653.6",
         "23750.2",
         "177700.0"
        ],
        [
         "37",
         "2024-12-24",
         "23769.1",
         "23867.65",
         "23685.15",
         "23727.65",
         "177700.0"
        ],
        [
         "38",
         "2024-12-23",
         "23738.2",
         "23869.55",
         "23647.2",
         "23753.45",
         "189800.0"
        ],
        [
         "39",
         "2024-12-20",
         "23960.7",
         "24065.8",
         "23537.35",
         "23587.5",
         "442700.0"
        ],
        [
         "40",
         "2024-12-19",
         "23877.15",
         "24004.9",
         "23870.3",
         "23951.7",
         "271100.0"
        ],
        [
         "41",
         "2024-12-18",
         "24297.95",
         "24394.45",
         "24149.85",
         "24198.85",
         "235300.0"
        ],
        [
         "42",
         "2024-12-17",
         "24584.8",
         "24624.1",
         "24303.45",
         "24336.0",
         "264900.0"
        ],
        [
         "43",
         "2024-12-16",
         "24753.4",
         "24781.25",
         "24601.75",
         "24668.25",
         "187600.0"
        ],
        [
         "44",
         "2024-12-13",
         "24498.35",
         "24792.3",
         "24180.8",
         "24768.3",
         "310100.0"
        ],
        [
         "45",
         "2024-12-12",
         "24604.45",
         "24675.25",
         "24527.95",
         "24548.7",
         "266100.0"
        ],
        [
         "46",
         "2024-12-11",
         "24620.5",
         "24691.75",
         "24583.85",
         "24641.8",
         "187300.0"
        ],
        [
         "47",
         "2024-12-10",
         "24652.65",
         "24677.8",
         "24510.65",
         "24610.05",
         "261000.0"
        ],
        [
         "48",
         "2024-12-09",
         "24633.9",
         "24705.0",
         "24580.05",
         "24619.0",
         "248100.0"
        ],
        [
         "49",
         "2024-12-06",
         "24729.45",
         "24751.05",
         "24620.5",
         "24677.8",
         "226700.0"
        ]
       ],
       "shape": {
        "columns": 6,
        "rows": 4271
       }
      },
      "text/html": [
       "<div>\n",
       "<style scoped>\n",
       "    .dataframe tbody tr th:only-of-type {\n",
       "        vertical-align: middle;\n",
       "    }\n",
       "\n",
       "    .dataframe tbody tr th {\n",
       "        vertical-align: top;\n",
       "    }\n",
       "\n",
       "    .dataframe thead th {\n",
       "        text-align: right;\n",
       "    }\n",
       "</style>\n",
       "<table border=\"1\" class=\"dataframe\">\n",
       "  <thead>\n",
       "    <tr style=\"text-align: right;\">\n",
       "      <th></th>\n",
       "      <th>Date</th>\n",
       "      <th>Open</th>\n",
       "      <th>High</th>\n",
       "      <th>Low</th>\n",
       "      <th>Close</th>\n",
       "      <th>Volume</th>\n",
       "    </tr>\n",
       "  </thead>\n",
       "  <tbody>\n",
       "    <tr>\n",
       "      <th>0</th>\n",
       "      <td>2025-02-14</td>\n",
       "      <td>23096.45</td>\n",
       "      <td>23133.70</td>\n",
       "      <td>22774.85</td>\n",
       "      <td>22929.25</td>\n",
       "      <td>254500.0</td>\n",
       "    </tr>\n",
       "    <tr>\n",
       "      <th>1</th>\n",
       "      <td>2025-02-13</td>\n",
       "      <td>23055.75</td>\n",
       "      <td>23235.50</td>\n",
       "      <td>22992.20</td>\n",
       "      <td>23031.40</td>\n",
       "      <td>265700.0</td>\n",
       "    </tr>\n",
       "    <tr>\n",
       "      <th>2</th>\n",
       "      <td>2025-02-12</td>\n",
       "      <td>23050.80</td>\n",
       "      <td>23144.70</td>\n",
       "      <td>22798.35</td>\n",
       "      <td>23045.25</td>\n",
       "      <td>279700.0</td>\n",
       "    </tr>\n",
       "    <tr>\n",
       "      <th>3</th>\n",
       "      <td>2025-02-11</td>\n",
       "      <td>23383.55</td>\n",
       "      <td>23390.05</td>\n",
       "      <td>22986.65</td>\n",
       "      <td>23071.80</td>\n",
       "      <td>268000.0</td>\n",
       "    </tr>\n",
       "    <tr>\n",
       "      <th>4</th>\n",
       "      <td>2025-02-10</td>\n",
       "      <td>23543.80</td>\n",
       "      <td>23568.60</td>\n",
       "      <td>23316.30</td>\n",
       "      <td>23381.60</td>\n",
       "      <td>234200.0</td>\n",
       "    </tr>\n",
       "    <tr>\n",
       "      <th>...</th>\n",
       "      <td>...</td>\n",
       "      <td>...</td>\n",
       "      <td>...</td>\n",
       "      <td>...</td>\n",
       "      <td>...</td>\n",
       "      <td>...</td>\n",
       "    </tr>\n",
       "    <tr>\n",
       "      <th>4266</th>\n",
       "      <td>2007-09-21</td>\n",
       "      <td>4752.95</td>\n",
       "      <td>4855.70</td>\n",
       "      <td>4733.70</td>\n",
       "      <td>4837.55</td>\n",
       "      <td>0.0</td>\n",
       "    </tr>\n",
       "    <tr>\n",
       "      <th>4267</th>\n",
       "      <td>2007-09-20</td>\n",
       "      <td>4734.85</td>\n",
       "      <td>4760.85</td>\n",
       "      <td>4721.15</td>\n",
       "      <td>4747.55</td>\n",
       "      <td>0.0</td>\n",
       "    </tr>\n",
       "    <tr>\n",
       "      <th>4268</th>\n",
       "      <td>2007-09-19</td>\n",
       "      <td>4550.25</td>\n",
       "      <td>4739.00</td>\n",
       "      <td>4550.25</td>\n",
       "      <td>4732.35</td>\n",
       "      <td>0.0</td>\n",
       "    </tr>\n",
       "    <tr>\n",
       "      <th>4269</th>\n",
       "      <td>2007-09-18</td>\n",
       "      <td>4494.10</td>\n",
       "      <td>4551.80</td>\n",
       "      <td>4481.55</td>\n",
       "      <td>4546.20</td>\n",
       "      <td>0.0</td>\n",
       "    </tr>\n",
       "    <tr>\n",
       "      <th>4270</th>\n",
       "      <td>2007-09-17</td>\n",
       "      <td>4518.45</td>\n",
       "      <td>4549.05</td>\n",
       "      <td>4482.85</td>\n",
       "      <td>4494.65</td>\n",
       "      <td>0.0</td>\n",
       "    </tr>\n",
       "  </tbody>\n",
       "</table>\n",
       "<p>4271 rows × 6 columns</p>\n",
       "</div>"
      ],
      "text/plain": [
       "            Date      Open      High       Low     Close    Volume\n",
       "0     2025-02-14  23096.45  23133.70  22774.85  22929.25  254500.0\n",
       "1     2025-02-13  23055.75  23235.50  22992.20  23031.40  265700.0\n",
       "2     2025-02-12  23050.80  23144.70  22798.35  23045.25  279700.0\n",
       "3     2025-02-11  23383.55  23390.05  22986.65  23071.80  268000.0\n",
       "4     2025-02-10  23543.80  23568.60  23316.30  23381.60  234200.0\n",
       "...          ...       ...       ...       ...       ...       ...\n",
       "4266  2007-09-21   4752.95   4855.70   4733.70   4837.55       0.0\n",
       "4267  2007-09-20   4734.85   4760.85   4721.15   4747.55       0.0\n",
       "4268  2007-09-19   4550.25   4739.00   4550.25   4732.35       0.0\n",
       "4269  2007-09-18   4494.10   4551.80   4481.55   4546.20       0.0\n",
       "4270  2007-09-17   4518.45   4549.05   4482.85   4494.65       0.0\n",
       "\n",
       "[4271 rows x 6 columns]"
      ]
     },
     "execution_count": 4,
     "metadata": {},
     "output_type": "execute_result"
    }
   ],
   "source": [
    "df.drop(columns=\"Adj Close\")"
   ]
  },
  {
   "cell_type": "markdown",
   "metadata": {},
   "source": [
    "Changing data type"
   ]
  },
  {
   "cell_type": "code",
   "execution_count": 5,
   "metadata": {},
   "outputs": [],
   "source": [
    "df['Date'] = pd.to_datetime(df['Date'])"
   ]
  },
  {
   "cell_type": "markdown",
   "metadata": {},
   "source": [
    "##### Create Rules"
   ]
  },
  {
   "cell_type": "markdown",
   "metadata": {},
   "source": [
    "Rule 1"
   ]
  },
  {
   "cell_type": "code",
   "execution_count": 6,
   "metadata": {},
   "outputs": [],
   "source": [
    "# buy => 0\n",
    "# sell => 1\n",
    "# Buy if Open > Close otherwise sell\n",
    "df['Rule 1'] = (df['Open'] > df['Close']).astype(int)"
   ]
  },
  {
   "cell_type": "markdown",
   "metadata": {},
   "source": [
    "Rule 2"
   ]
  },
  {
   "cell_type": "code",
   "execution_count": 7,
   "metadata": {},
   "outputs": [],
   "source": [
    "# Buy if Open = Low\n",
    "# Sell if Open = High\n",
    "# Buy if Open > Mean of High and Low\n",
    "\n",
    "def ruleTwo(row):\n",
    "    if row['Open'] == row['Low']:\n",
    "        return 0\n",
    "    elif row['Open'] == row['High']:\n",
    "        return 1\n",
    "    elif row['Open'] > np.mean([row['High'], row['Low']]):\n",
    "        return 0\n",
    "    return 1\n",
    "\n",
    "df['Rule 2'] = df.apply(ruleTwo, axis=1)"
   ]
  },
  {
   "cell_type": "markdown",
   "metadata": {},
   "source": [
    "TP"
   ]
  },
  {
   "cell_type": "code",
   "execution_count": 8,
   "metadata": {},
   "outputs": [],
   "source": [
    "df['TP'] = df[['High', 'Low', 'Close']].mean(axis=1)"
   ]
  },
  {
   "cell_type": "markdown",
   "metadata": {},
   "source": [
    "Rule 3"
   ]
  },
  {
   "cell_type": "code",
   "execution_count": 9,
   "metadata": {},
   "outputs": [],
   "source": [
    "df['Rule 3'] = (df['TP'] < df['TP'].shift(1)).astype(int)"
   ]
  },
  {
   "cell_type": "markdown",
   "metadata": {},
   "source": [
    "##### Create 'classifier'"
   ]
  },
  {
   "cell_type": "code",
   "execution_count": 10,
   "metadata": {},
   "outputs": [],
   "source": [
    "df['classifier'] = stats.mode(df[['Rule 1', 'Rule 2', 'Rule 3']], axis=1).mode"
   ]
  },
  {
   "cell_type": "code",
   "execution_count": 18,
   "metadata": {},
   "outputs": [
    {
     "data": {
      "application/vnd.microsoft.datawrangler.viewer.v0+json": {
       "columns": [
        {
         "name": "index",
         "rawType": "int64",
         "type": "integer"
        },
        {
         "name": "Date",
         "rawType": "datetime64[ns]",
         "type": "datetime"
        },
        {
         "name": "Open",
         "rawType": "float64",
         "type": "float"
        },
        {
         "name": "High",
         "rawType": "float64",
         "type": "float"
        },
        {
         "name": "Low",
         "rawType": "float64",
         "type": "float"
        },
        {
         "name": "Close",
         "rawType": "float64",
         "type": "float"
        },
        {
         "name": "Adj Close",
         "rawType": "float64",
         "type": "float"
        },
        {
         "name": "Volume",
         "rawType": "float64",
         "type": "float"
        },
        {
         "name": "Rule 1",
         "rawType": "int64",
         "type": "integer"
        },
        {
         "name": "Rule 2",
         "rawType": "int64",
         "type": "integer"
        },
        {
         "name": "TP",
         "rawType": "float64",
         "type": "float"
        },
        {
         "name": "Rule 3",
         "rawType": "int64",
         "type": "integer"
        },
        {
         "name": "classifier",
         "rawType": "int64",
         "type": "integer"
        }
       ],
       "conversionMethod": "pd.DataFrame",
       "ref": "2dec4778-3897-40cb-9499-859a68b89b28",
       "rows": [
        [
         "0",
         "2025-02-14 00:00:00",
         "23096.45",
         "23133.7",
         "22774.85",
         "22929.25",
         "22929.25",
         "254500.0",
         "1",
         "0",
         "22945.933333333334",
         "0",
         "0"
        ],
        [
         "1",
         "2025-02-13 00:00:00",
         "23055.75",
         "23235.5",
         "22992.2",
         "23031.4",
         "23031.4",
         "265700.0",
         "1",
         "1",
         "23086.36666666667",
         "0",
         "1"
        ],
        [
         "2",
         "2025-02-12 00:00:00",
         "23050.8",
         "23144.7",
         "22798.35",
         "23045.25",
         "23045.25",
         "279700.0",
         "1",
         "0",
         "22996.100000000002",
         "1",
         "1"
        ],
        [
         "3",
         "2025-02-11 00:00:00",
         "23383.55",
         "23390.05",
         "22986.65",
         "23071.8",
         "23071.8",
         "268000.0",
         "1",
         "0",
         "23149.5",
         "0",
         "0"
        ],
        [
         "4",
         "2025-02-10 00:00:00",
         "23543.8",
         "23568.6",
         "23316.3",
         "23381.6",
         "23381.6",
         "234200.0",
         "1",
         "0",
         "23422.166666666668",
         "0",
         "0"
        ]
       ],
       "shape": {
        "columns": 12,
        "rows": 5
       }
      },
      "text/html": [
       "<div>\n",
       "<style scoped>\n",
       "    .dataframe tbody tr th:only-of-type {\n",
       "        vertical-align: middle;\n",
       "    }\n",
       "\n",
       "    .dataframe tbody tr th {\n",
       "        vertical-align: top;\n",
       "    }\n",
       "\n",
       "    .dataframe thead th {\n",
       "        text-align: right;\n",
       "    }\n",
       "</style>\n",
       "<table border=\"1\" class=\"dataframe\">\n",
       "  <thead>\n",
       "    <tr style=\"text-align: right;\">\n",
       "      <th></th>\n",
       "      <th>Date</th>\n",
       "      <th>Open</th>\n",
       "      <th>High</th>\n",
       "      <th>Low</th>\n",
       "      <th>Close</th>\n",
       "      <th>Adj Close</th>\n",
       "      <th>Volume</th>\n",
       "      <th>Rule 1</th>\n",
       "      <th>Rule 2</th>\n",
       "      <th>TP</th>\n",
       "      <th>Rule 3</th>\n",
       "      <th>classifier</th>\n",
       "    </tr>\n",
       "  </thead>\n",
       "  <tbody>\n",
       "    <tr>\n",
       "      <th>0</th>\n",
       "      <td>2025-02-14</td>\n",
       "      <td>23096.45</td>\n",
       "      <td>23133.70</td>\n",
       "      <td>22774.85</td>\n",
       "      <td>22929.25</td>\n",
       "      <td>22929.25</td>\n",
       "      <td>254500.0</td>\n",
       "      <td>1</td>\n",
       "      <td>0</td>\n",
       "      <td>22945.933333</td>\n",
       "      <td>0</td>\n",
       "      <td>0</td>\n",
       "    </tr>\n",
       "    <tr>\n",
       "      <th>1</th>\n",
       "      <td>2025-02-13</td>\n",
       "      <td>23055.75</td>\n",
       "      <td>23235.50</td>\n",
       "      <td>22992.20</td>\n",
       "      <td>23031.40</td>\n",
       "      <td>23031.40</td>\n",
       "      <td>265700.0</td>\n",
       "      <td>1</td>\n",
       "      <td>1</td>\n",
       "      <td>23086.366667</td>\n",
       "      <td>0</td>\n",
       "      <td>1</td>\n",
       "    </tr>\n",
       "    <tr>\n",
       "      <th>2</th>\n",
       "      <td>2025-02-12</td>\n",
       "      <td>23050.80</td>\n",
       "      <td>23144.70</td>\n",
       "      <td>22798.35</td>\n",
       "      <td>23045.25</td>\n",
       "      <td>23045.25</td>\n",
       "      <td>279700.0</td>\n",
       "      <td>1</td>\n",
       "      <td>0</td>\n",
       "      <td>22996.100000</td>\n",
       "      <td>1</td>\n",
       "      <td>1</td>\n",
       "    </tr>\n",
       "    <tr>\n",
       "      <th>3</th>\n",
       "      <td>2025-02-11</td>\n",
       "      <td>23383.55</td>\n",
       "      <td>23390.05</td>\n",
       "      <td>22986.65</td>\n",
       "      <td>23071.80</td>\n",
       "      <td>23071.80</td>\n",
       "      <td>268000.0</td>\n",
       "      <td>1</td>\n",
       "      <td>0</td>\n",
       "      <td>23149.500000</td>\n",
       "      <td>0</td>\n",
       "      <td>0</td>\n",
       "    </tr>\n",
       "    <tr>\n",
       "      <th>4</th>\n",
       "      <td>2025-02-10</td>\n",
       "      <td>23543.80</td>\n",
       "      <td>23568.60</td>\n",
       "      <td>23316.30</td>\n",
       "      <td>23381.60</td>\n",
       "      <td>23381.60</td>\n",
       "      <td>234200.0</td>\n",
       "      <td>1</td>\n",
       "      <td>0</td>\n",
       "      <td>23422.166667</td>\n",
       "      <td>0</td>\n",
       "      <td>0</td>\n",
       "    </tr>\n",
       "  </tbody>\n",
       "</table>\n",
       "</div>"
      ],
      "text/plain": [
       "        Date      Open      High       Low     Close  Adj Close    Volume  \\\n",
       "0 2025-02-14  23096.45  23133.70  22774.85  22929.25   22929.25  254500.0   \n",
       "1 2025-02-13  23055.75  23235.50  22992.20  23031.40   23031.40  265700.0   \n",
       "2 2025-02-12  23050.80  23144.70  22798.35  23045.25   23045.25  279700.0   \n",
       "3 2025-02-11  23383.55  23390.05  22986.65  23071.80   23071.80  268000.0   \n",
       "4 2025-02-10  23543.80  23568.60  23316.30  23381.60   23381.60  234200.0   \n",
       "\n",
       "   Rule 1  Rule 2            TP  Rule 3  classifier  \n",
       "0       1       0  22945.933333       0           0  \n",
       "1       1       1  23086.366667       0           1  \n",
       "2       1       0  22996.100000       1           1  \n",
       "3       1       0  23149.500000       0           0  \n",
       "4       1       0  23422.166667       0           0  "
      ]
     },
     "execution_count": 18,
     "metadata": {},
     "output_type": "execute_result"
    }
   ],
   "source": [
    "df.head()"
   ]
  },
  {
   "cell_type": "code",
   "execution_count": 17,
   "metadata": {},
   "outputs": [],
   "source": [
    "df.to_csv(\"NSEI (Rules).csv\", index=False)"
   ]
  },
  {
   "cell_type": "markdown",
   "metadata": {},
   "source": [
    "##### Split in Old and New NSEI."
   ]
  },
  {
   "cell_type": "code",
   "execution_count": 11,
   "metadata": {},
   "outputs": [],
   "source": [
    "dateSplit = pd.to_datetime('01-01-2025', format=\"%d-%m-%Y\")\n",
    "newNSEI = df[df['Date'] >= dateSplit]\n",
    "oldNSEI = df[df['Date'] < dateSplit]"
   ]
  },
  {
   "cell_type": "code",
   "execution_count": 16,
   "metadata": {},
   "outputs": [
    {
     "data": {
      "application/vnd.microsoft.datawrangler.viewer.v0+json": {
       "columns": [
        {
         "name": "index",
         "rawType": "int64",
         "type": "integer"
        },
        {
         "name": "Rule 1",
         "rawType": "int64",
         "type": "integer"
        },
        {
         "name": "Rule 2",
         "rawType": "int64",
         "type": "integer"
        },
        {
         "name": "TP",
         "rawType": "float64",
         "type": "float"
        },
        {
         "name": "Rule 3",
         "rawType": "int64",
         "type": "integer"
        }
       ],
       "conversionMethod": "pd.DataFrame",
       "ref": "a99720a6-bc53-4291-8e00-2b199a9b1d9b",
       "rows": [
        [
         "33",
         "0",
         "1",
         "23598.36666666667",
         "1"
        ],
        [
         "34",
         "1",
         "0",
         "23719.849999999995",
         "0"
        ],
        [
         "35",
         "0",
         "1",
         "23850.95",
         "0"
        ],
        [
         "36",
         "1",
         "0",
         "23752.766666666666",
         "1"
        ],
        [
         "37",
         "1",
         "1",
         "23760.150000000005",
         "0"
        ]
       ],
       "shape": {
        "columns": 4,
        "rows": 5
       }
      },
      "text/html": [
       "<div>\n",
       "<style scoped>\n",
       "    .dataframe tbody tr th:only-of-type {\n",
       "        vertical-align: middle;\n",
       "    }\n",
       "\n",
       "    .dataframe tbody tr th {\n",
       "        vertical-align: top;\n",
       "    }\n",
       "\n",
       "    .dataframe thead th {\n",
       "        text-align: right;\n",
       "    }\n",
       "</style>\n",
       "<table border=\"1\" class=\"dataframe\">\n",
       "  <thead>\n",
       "    <tr style=\"text-align: right;\">\n",
       "      <th></th>\n",
       "      <th>Rule 1</th>\n",
       "      <th>Rule 2</th>\n",
       "      <th>TP</th>\n",
       "      <th>Rule 3</th>\n",
       "    </tr>\n",
       "  </thead>\n",
       "  <tbody>\n",
       "    <tr>\n",
       "      <th>33</th>\n",
       "      <td>0</td>\n",
       "      <td>1</td>\n",
       "      <td>23598.366667</td>\n",
       "      <td>1</td>\n",
       "    </tr>\n",
       "    <tr>\n",
       "      <th>34</th>\n",
       "      <td>1</td>\n",
       "      <td>0</td>\n",
       "      <td>23719.850000</td>\n",
       "      <td>0</td>\n",
       "    </tr>\n",
       "    <tr>\n",
       "      <th>35</th>\n",
       "      <td>0</td>\n",
       "      <td>1</td>\n",
       "      <td>23850.950000</td>\n",
       "      <td>0</td>\n",
       "    </tr>\n",
       "    <tr>\n",
       "      <th>36</th>\n",
       "      <td>1</td>\n",
       "      <td>0</td>\n",
       "      <td>23752.766667</td>\n",
       "      <td>1</td>\n",
       "    </tr>\n",
       "    <tr>\n",
       "      <th>37</th>\n",
       "      <td>1</td>\n",
       "      <td>1</td>\n",
       "      <td>23760.150000</td>\n",
       "      <td>0</td>\n",
       "    </tr>\n",
       "  </tbody>\n",
       "</table>\n",
       "</div>"
      ],
      "text/plain": [
       "    Rule 1  Rule 2            TP  Rule 3\n",
       "33       0       1  23598.366667       1\n",
       "34       1       0  23719.850000       0\n",
       "35       0       1  23850.950000       0\n",
       "36       1       0  23752.766667       1\n",
       "37       1       1  23760.150000       0"
      ]
     },
     "execution_count": 16,
     "metadata": {},
     "output_type": "execute_result"
    }
   ],
   "source": [
    "oldNSEI[['Rule 1', 'Rule 2', 'TP', 'Rule 3']].head()"
   ]
  },
  {
   "cell_type": "markdown",
   "metadata": {},
   "source": [
    "#### Hyper Parameter Tuning"
   ]
  },
  {
   "cell_type": "code",
   "execution_count": null,
   "metadata": {},
   "outputs": [],
   "source": [
    "params = [\n",
    "\t{\n",
    "\t\t\"model\": DecisionTreeClassifier(),\n",
    "\t\t\"params\": {\n",
    "\t\t\t\"criterion\": [\"gini\", \"entropy\"],\n",
    "\t\t\t\"splitter\": [\"best\", \"random\"],\n",
    "\t\t\t\"max_depth\": [2, 3, 4, 5, 6, 7, 8, 9, 10],\n",
    "\t\t\t\"min_samples_split\": [2, 3, 4, 5, 6, 7, 8, 9, 10],\n",
    "\t\t\t\"min_samples_leaf\": [1, 2, 3, 4, 5, 6, 7, 8, 9, 10]\n",
    "\t\t},\n",
    "\t},\n",
    "\t{\n",
    "\t\t\"model\": LogisticRegression(max_iter=1000),\n",
    "\t\t\"params\": {\n",
    "\t\t\t\"penalty\": [\"l1\", \"l2\"],\n",
    "\t\t\t\"C\": [0.1, 0.2, 0.3, 0.4, 0.5, 0.6, 0.7, 0.8, 0.9, 1.0],\n",
    "\t\t\t\"solver\": [\"liblinear\", \"saga\"],\n",
    "\t\t\t\"max_iter\": [100, 200, 300, 400, 500, 600, 700, 800, 900, 1000]\n",
    "\t\t},\n",
    "\t},\n",
    "\t{\n",
    "\t\t\"model\": KNeighborsClassifier(),\n",
    "\t\t\"params\": {\n",
    "\t\t\t\"n_neighbors\": [5, 7, 9, 11, 13, 15],\n",
    "\t\t\t\"weights\": [\"uniform\", \"distance\"],\n",
    "\t\t\t\"metric\": [\"minkowski\", \"euclidean\", \"manhattan\"]\n",
    "\t\t},\n",
    "\t},\n",
    "\t{\n",
    "\t\t\"model\": SVC(),\n",
    "\t\t\"params\": {\n",
    "\t\t\t\"C\": [0.1, 0.2, 0.3, 0.4, 0.5, 0.6, 0.7, 0.8, 0.9, 1.0],\n",
    "\t\t\t\"kernel\": [\"linear\", \"poly\", \"rbf\", \"sigmoid\"],\n",
    "\t\t\t\"gamma\": [\"scale\", \"auto\"],\n",
    "\t\t\t\"decision_function_shape\": [\"ovo\", \"ovr\"]\n",
    "\t\t}\n",
    "\t}\n",
    "]"
   ]
  },
  {
   "cell_type": "code",
   "execution_count": null,
   "metadata": {},
   "outputs": [],
   "source": [
    "bestParams = []\n",
    "tune = False\n",
    "if tune:\n",
    "\tfor param in params:\n",
    "\t\tgs = GridSearchCV(param['model'], param['params'], cv=3)\n",
    "\t\tgs.fit(newNSEI[['Open', 'High', 'Low', 'Close']], newNSEI['classifier'])\n",
    "\t\tbestParams.append({'param': gs.best_params_, 'score': gs.best_score_, 'model': param['model'] })"
   ]
  },
  {
   "cell_type": "markdown",
   "metadata": {},
   "source": [
    "#### Model fitting"
   ]
  },
  {
   "cell_type": "code",
   "execution_count": null,
   "metadata": {},
   "outputs": [],
   "source": [
    "models = []\n",
    "for i, param in enumerate(params):\n",
    "    models.append(param['model'])\n",
    "    models[i].fit(oldNSEI[['Open', 'High', 'Low', 'Close']], oldNSEI['classifier'])"
   ]
  },
  {
   "cell_type": "code",
   "execution_count": null,
   "metadata": {},
   "outputs": [
    {
     "name": "stderr",
     "output_type": "stream",
     "text": [
      "C:\\Users\\cw\\AppData\\Local\\Temp\\ipykernel_14756\\1986148047.py:2: SettingWithCopyWarning: \n",
      "A value is trying to be set on a copy of a slice from a DataFrame.\n",
      "Try using .loc[row_indexer,col_indexer] = value instead\n",
      "\n",
      "See the caveats in the documentation: https://pandas.pydata.org/pandas-docs/stable/user_guide/indexing.html#returning-a-view-versus-a-copy\n",
      "  newNSEI[str(model)] = model.predict(newNSEI[['Open', 'High', 'Low', 'Close']])\n",
      "C:\\Users\\cw\\AppData\\Local\\Temp\\ipykernel_14756\\1986148047.py:2: SettingWithCopyWarning: \n",
      "A value is trying to be set on a copy of a slice from a DataFrame.\n",
      "Try using .loc[row_indexer,col_indexer] = value instead\n",
      "\n",
      "See the caveats in the documentation: https://pandas.pydata.org/pandas-docs/stable/user_guide/indexing.html#returning-a-view-versus-a-copy\n",
      "  newNSEI[str(model)] = model.predict(newNSEI[['Open', 'High', 'Low', 'Close']])\n",
      "C:\\Users\\cw\\AppData\\Local\\Temp\\ipykernel_14756\\1986148047.py:2: SettingWithCopyWarning: \n",
      "A value is trying to be set on a copy of a slice from a DataFrame.\n",
      "Try using .loc[row_indexer,col_indexer] = value instead\n",
      "\n",
      "See the caveats in the documentation: https://pandas.pydata.org/pandas-docs/stable/user_guide/indexing.html#returning-a-view-versus-a-copy\n",
      "  newNSEI[str(model)] = model.predict(newNSEI[['Open', 'High', 'Low', 'Close']])\n",
      "C:\\Users\\cw\\AppData\\Local\\Temp\\ipykernel_14756\\1986148047.py:2: SettingWithCopyWarning: \n",
      "A value is trying to be set on a copy of a slice from a DataFrame.\n",
      "Try using .loc[row_indexer,col_indexer] = value instead\n",
      "\n",
      "See the caveats in the documentation: https://pandas.pydata.org/pandas-docs/stable/user_guide/indexing.html#returning-a-view-versus-a-copy\n",
      "  newNSEI[str(model)] = model.predict(newNSEI[['Open', 'High', 'Low', 'Close']])\n"
     ]
    }
   ],
   "source": [
    "for model in models:\n",
    "    newNSEI[str(model)] = model.predict(newNSEI[['Open', 'High', 'Low', 'Close']])"
   ]
  },
  {
   "cell_type": "code",
   "execution_count": null,
   "metadata": {},
   "outputs": [
    {
     "data": {
      "application/vnd.microsoft.datawrangler.viewer.v0+json": {
       "columns": [
        {
         "name": "index",
         "rawType": "int64",
         "type": "integer"
        },
        {
         "name": "classifier",
         "rawType": "int64",
         "type": "integer"
        },
        {
         "name": "DecisionTreeClassifier()",
         "rawType": "int64",
         "type": "integer"
        },
        {
         "name": "LogisticRegression(max_iter=1000)",
         "rawType": "int64",
         "type": "integer"
        },
        {
         "name": "KNeighborsClassifier()",
         "rawType": "int64",
         "type": "integer"
        },
        {
         "name": "SVC()",
         "rawType": "int64",
         "type": "integer"
        }
       ],
       "conversionMethod": "pd.DataFrame",
       "ref": "e43af996-fdbd-490a-b552-c7cba86ee3f0",
       "rows": [
        [
         "0",
         "0",
         "0",
         "0",
         "0",
         "1"
        ],
        [
         "1",
         "1",
         "0",
         "1",
         "0",
         "1"
        ],
        [
         "2",
         "1",
         "1",
         "1",
         "0",
         "1"
        ],
        [
         "3",
         "0",
         "0",
         "0",
         "1",
         "1"
        ],
        [
         "4",
         "0",
         "1",
         "0",
         "1",
         "1"
        ],
        [
         "5",
         "0",
         "1",
         "0",
         "1",
         "1"
        ],
        [
         "6",
         "0",
         "1",
         "0",
         "1",
         "1"
        ],
        [
         "7",
         "0",
         "0",
         "0",
         "1",
         "1"
        ],
        [
         "8",
         "1",
         "1",
         "1",
         "1",
         "1"
        ],
        [
         "9",
         "0",
         "1",
         "1",
         "1",
         "1"
        ],
        [
         "10",
         "0",
         "1",
         "1",
         "1",
         "1"
        ],
        [
         "11",
         "1",
         "1",
         "1",
         "1",
         "1"
        ],
        [
         "12",
         "1",
         "1",
         "1",
         "0",
         "1"
        ],
        [
         "13",
         "1",
         "1",
         "1",
         "0",
         "1"
        ],
        [
         "14",
         "1",
         "0",
         "0",
         "0",
         "1"
        ],
        [
         "15",
         "1",
         "0",
         "1",
         "1",
         "1"
        ],
        [
         "16",
         "0",
         "0",
         "1",
         "1",
         "1"
        ],
        [
         "17",
         "0",
         "1",
         "1",
         "0",
         "1"
        ],
        [
         "18",
         "0",
         "1",
         "0",
         "1",
         "1"
        ],
        [
         "19",
         "0",
         "1",
         "1",
         "1",
         "1"
        ],
        [
         "20",
         "1",
         "0",
         "0",
         "1",
         "1"
        ],
        [
         "21",
         "0",
         "1",
         "1",
         "1",
         "1"
        ],
        [
         "22",
         "1",
         "1",
         "1",
         "1",
         "1"
        ],
        [
         "23",
         "1",
         "0",
         "1",
         "1",
         "1"
        ],
        [
         "24",
         "1",
         "0",
         "1",
         "1",
         "1"
        ],
        [
         "25",
         "0",
         "1",
         "0",
         "1",
         "1"
        ],
        [
         "26",
         "0",
         "1",
         "0",
         "0",
         "1"
        ],
        [
         "27",
         "0",
         "1",
         "0",
         "1",
         "1"
        ],
        [
         "28",
         "0",
         "1",
         "1",
         "1",
         "1"
        ],
        [
         "29",
         "0",
         "1",
         "0",
         "1",
         "1"
        ],
        [
         "30",
         "0",
         "1",
         "0",
         "1",
         "1"
        ],
        [
         "31",
         "1",
         "1",
         "1",
         "1",
         "1"
        ],
        [
         "32",
         "1",
         "1",
         "1",
         "1",
         "1"
        ]
       ],
       "shape": {
        "columns": 5,
        "rows": 33
       }
      },
      "text/html": [
       "<div>\n",
       "<style scoped>\n",
       "    .dataframe tbody tr th:only-of-type {\n",
       "        vertical-align: middle;\n",
       "    }\n",
       "\n",
       "    .dataframe tbody tr th {\n",
       "        vertical-align: top;\n",
       "    }\n",
       "\n",
       "    .dataframe thead th {\n",
       "        text-align: right;\n",
       "    }\n",
       "</style>\n",
       "<table border=\"1\" class=\"dataframe\">\n",
       "  <thead>\n",
       "    <tr style=\"text-align: right;\">\n",
       "      <th></th>\n",
       "      <th>classifier</th>\n",
       "      <th>DecisionTreeClassifier()</th>\n",
       "      <th>LogisticRegression(max_iter=1000)</th>\n",
       "      <th>KNeighborsClassifier()</th>\n",
       "      <th>SVC()</th>\n",
       "    </tr>\n",
       "  </thead>\n",
       "  <tbody>\n",
       "    <tr>\n",
       "      <th>0</th>\n",
       "      <td>0</td>\n",
       "      <td>0</td>\n",
       "      <td>0</td>\n",
       "      <td>0</td>\n",
       "      <td>1</td>\n",
       "    </tr>\n",
       "    <tr>\n",
       "      <th>1</th>\n",
       "      <td>1</td>\n",
       "      <td>0</td>\n",
       "      <td>1</td>\n",
       "      <td>0</td>\n",
       "      <td>1</td>\n",
       "    </tr>\n",
       "    <tr>\n",
       "      <th>2</th>\n",
       "      <td>1</td>\n",
       "      <td>1</td>\n",
       "      <td>1</td>\n",
       "      <td>0</td>\n",
       "      <td>1</td>\n",
       "    </tr>\n",
       "    <tr>\n",
       "      <th>3</th>\n",
       "      <td>0</td>\n",
       "      <td>0</td>\n",
       "      <td>0</td>\n",
       "      <td>1</td>\n",
       "      <td>1</td>\n",
       "    </tr>\n",
       "    <tr>\n",
       "      <th>4</th>\n",
       "      <td>0</td>\n",
       "      <td>1</td>\n",
       "      <td>0</td>\n",
       "      <td>1</td>\n",
       "      <td>1</td>\n",
       "    </tr>\n",
       "    <tr>\n",
       "      <th>5</th>\n",
       "      <td>0</td>\n",
       "      <td>1</td>\n",
       "      <td>0</td>\n",
       "      <td>1</td>\n",
       "      <td>1</td>\n",
       "    </tr>\n",
       "    <tr>\n",
       "      <th>6</th>\n",
       "      <td>0</td>\n",
       "      <td>1</td>\n",
       "      <td>0</td>\n",
       "      <td>1</td>\n",
       "      <td>1</td>\n",
       "    </tr>\n",
       "    <tr>\n",
       "      <th>7</th>\n",
       "      <td>0</td>\n",
       "      <td>0</td>\n",
       "      <td>0</td>\n",
       "      <td>1</td>\n",
       "      <td>1</td>\n",
       "    </tr>\n",
       "    <tr>\n",
       "      <th>8</th>\n",
       "      <td>1</td>\n",
       "      <td>1</td>\n",
       "      <td>1</td>\n",
       "      <td>1</td>\n",
       "      <td>1</td>\n",
       "    </tr>\n",
       "    <tr>\n",
       "      <th>9</th>\n",
       "      <td>0</td>\n",
       "      <td>1</td>\n",
       "      <td>1</td>\n",
       "      <td>1</td>\n",
       "      <td>1</td>\n",
       "    </tr>\n",
       "    <tr>\n",
       "      <th>10</th>\n",
       "      <td>0</td>\n",
       "      <td>1</td>\n",
       "      <td>1</td>\n",
       "      <td>1</td>\n",
       "      <td>1</td>\n",
       "    </tr>\n",
       "    <tr>\n",
       "      <th>11</th>\n",
       "      <td>1</td>\n",
       "      <td>1</td>\n",
       "      <td>1</td>\n",
       "      <td>1</td>\n",
       "      <td>1</td>\n",
       "    </tr>\n",
       "    <tr>\n",
       "      <th>12</th>\n",
       "      <td>1</td>\n",
       "      <td>1</td>\n",
       "      <td>1</td>\n",
       "      <td>0</td>\n",
       "      <td>1</td>\n",
       "    </tr>\n",
       "    <tr>\n",
       "      <th>13</th>\n",
       "      <td>1</td>\n",
       "      <td>1</td>\n",
       "      <td>1</td>\n",
       "      <td>0</td>\n",
       "      <td>1</td>\n",
       "    </tr>\n",
       "    <tr>\n",
       "      <th>14</th>\n",
       "      <td>1</td>\n",
       "      <td>0</td>\n",
       "      <td>0</td>\n",
       "      <td>0</td>\n",
       "      <td>1</td>\n",
       "    </tr>\n",
       "    <tr>\n",
       "      <th>15</th>\n",
       "      <td>1</td>\n",
       "      <td>0</td>\n",
       "      <td>1</td>\n",
       "      <td>1</td>\n",
       "      <td>1</td>\n",
       "    </tr>\n",
       "    <tr>\n",
       "      <th>16</th>\n",
       "      <td>0</td>\n",
       "      <td>0</td>\n",
       "      <td>1</td>\n",
       "      <td>1</td>\n",
       "      <td>1</td>\n",
       "    </tr>\n",
       "    <tr>\n",
       "      <th>17</th>\n",
       "      <td>0</td>\n",
       "      <td>1</td>\n",
       "      <td>1</td>\n",
       "      <td>0</td>\n",
       "      <td>1</td>\n",
       "    </tr>\n",
       "    <tr>\n",
       "      <th>18</th>\n",
       "      <td>0</td>\n",
       "      <td>1</td>\n",
       "      <td>0</td>\n",
       "      <td>1</td>\n",
       "      <td>1</td>\n",
       "    </tr>\n",
       "    <tr>\n",
       "      <th>19</th>\n",
       "      <td>0</td>\n",
       "      <td>1</td>\n",
       "      <td>1</td>\n",
       "      <td>1</td>\n",
       "      <td>1</td>\n",
       "    </tr>\n",
       "    <tr>\n",
       "      <th>20</th>\n",
       "      <td>1</td>\n",
       "      <td>0</td>\n",
       "      <td>0</td>\n",
       "      <td>1</td>\n",
       "      <td>1</td>\n",
       "    </tr>\n",
       "    <tr>\n",
       "      <th>21</th>\n",
       "      <td>0</td>\n",
       "      <td>1</td>\n",
       "      <td>1</td>\n",
       "      <td>1</td>\n",
       "      <td>1</td>\n",
       "    </tr>\n",
       "    <tr>\n",
       "      <th>22</th>\n",
       "      <td>1</td>\n",
       "      <td>1</td>\n",
       "      <td>1</td>\n",
       "      <td>1</td>\n",
       "      <td>1</td>\n",
       "    </tr>\n",
       "    <tr>\n",
       "      <th>23</th>\n",
       "      <td>1</td>\n",
       "      <td>0</td>\n",
       "      <td>1</td>\n",
       "      <td>1</td>\n",
       "      <td>1</td>\n",
       "    </tr>\n",
       "    <tr>\n",
       "      <th>24</th>\n",
       "      <td>1</td>\n",
       "      <td>0</td>\n",
       "      <td>1</td>\n",
       "      <td>1</td>\n",
       "      <td>1</td>\n",
       "    </tr>\n",
       "    <tr>\n",
       "      <th>25</th>\n",
       "      <td>0</td>\n",
       "      <td>1</td>\n",
       "      <td>0</td>\n",
       "      <td>1</td>\n",
       "      <td>1</td>\n",
       "    </tr>\n",
       "    <tr>\n",
       "      <th>26</th>\n",
       "      <td>0</td>\n",
       "      <td>1</td>\n",
       "      <td>0</td>\n",
       "      <td>0</td>\n",
       "      <td>1</td>\n",
       "    </tr>\n",
       "    <tr>\n",
       "      <th>27</th>\n",
       "      <td>0</td>\n",
       "      <td>1</td>\n",
       "      <td>0</td>\n",
       "      <td>1</td>\n",
       "      <td>1</td>\n",
       "    </tr>\n",
       "    <tr>\n",
       "      <th>28</th>\n",
       "      <td>0</td>\n",
       "      <td>1</td>\n",
       "      <td>1</td>\n",
       "      <td>1</td>\n",
       "      <td>1</td>\n",
       "    </tr>\n",
       "    <tr>\n",
       "      <th>29</th>\n",
       "      <td>0</td>\n",
       "      <td>1</td>\n",
       "      <td>0</td>\n",
       "      <td>1</td>\n",
       "      <td>1</td>\n",
       "    </tr>\n",
       "    <tr>\n",
       "      <th>30</th>\n",
       "      <td>0</td>\n",
       "      <td>1</td>\n",
       "      <td>0</td>\n",
       "      <td>1</td>\n",
       "      <td>1</td>\n",
       "    </tr>\n",
       "    <tr>\n",
       "      <th>31</th>\n",
       "      <td>1</td>\n",
       "      <td>1</td>\n",
       "      <td>1</td>\n",
       "      <td>1</td>\n",
       "      <td>1</td>\n",
       "    </tr>\n",
       "    <tr>\n",
       "      <th>32</th>\n",
       "      <td>1</td>\n",
       "      <td>1</td>\n",
       "      <td>1</td>\n",
       "      <td>1</td>\n",
       "      <td>1</td>\n",
       "    </tr>\n",
       "  </tbody>\n",
       "</table>\n",
       "</div>"
      ],
      "text/plain": [
       "    classifier  DecisionTreeClassifier()  LogisticRegression(max_iter=1000)  \\\n",
       "0            0                         0                                  0   \n",
       "1            1                         0                                  1   \n",
       "2            1                         1                                  1   \n",
       "3            0                         0                                  0   \n",
       "4            0                         1                                  0   \n",
       "5            0                         1                                  0   \n",
       "6            0                         1                                  0   \n",
       "7            0                         0                                  0   \n",
       "8            1                         1                                  1   \n",
       "9            0                         1                                  1   \n",
       "10           0                         1                                  1   \n",
       "11           1                         1                                  1   \n",
       "12           1                         1                                  1   \n",
       "13           1                         1                                  1   \n",
       "14           1                         0                                  0   \n",
       "15           1                         0                                  1   \n",
       "16           0                         0                                  1   \n",
       "17           0                         1                                  1   \n",
       "18           0                         1                                  0   \n",
       "19           0                         1                                  1   \n",
       "20           1                         0                                  0   \n",
       "21           0                         1                                  1   \n",
       "22           1                         1                                  1   \n",
       "23           1                         0                                  1   \n",
       "24           1                         0                                  1   \n",
       "25           0                         1                                  0   \n",
       "26           0                         1                                  0   \n",
       "27           0                         1                                  0   \n",
       "28           0                         1                                  1   \n",
       "29           0                         1                                  0   \n",
       "30           0                         1                                  0   \n",
       "31           1                         1                                  1   \n",
       "32           1                         1                                  1   \n",
       "\n",
       "    KNeighborsClassifier()  SVC()  \n",
       "0                        0      1  \n",
       "1                        0      1  \n",
       "2                        0      1  \n",
       "3                        1      1  \n",
       "4                        1      1  \n",
       "5                        1      1  \n",
       "6                        1      1  \n",
       "7                        1      1  \n",
       "8                        1      1  \n",
       "9                        1      1  \n",
       "10                       1      1  \n",
       "11                       1      1  \n",
       "12                       0      1  \n",
       "13                       0      1  \n",
       "14                       0      1  \n",
       "15                       1      1  \n",
       "16                       1      1  \n",
       "17                       0      1  \n",
       "18                       1      1  \n",
       "19                       1      1  \n",
       "20                       1      1  \n",
       "21                       1      1  \n",
       "22                       1      1  \n",
       "23                       1      1  \n",
       "24                       1      1  \n",
       "25                       1      1  \n",
       "26                       0      1  \n",
       "27                       1      1  \n",
       "28                       1      1  \n",
       "29                       1      1  \n",
       "30                       1      1  \n",
       "31                       1      1  \n",
       "32                       1      1  "
      ]
     },
     "execution_count": 15,
     "metadata": {},
     "output_type": "execute_result"
    }
   ],
   "source": [
    "newNSEI[['classifier', str(models[0]), str(models[1]), str(models[2]), str(models[3])]]"
   ]
  },
  {
   "cell_type": "code",
   "execution_count": null,
   "metadata": {},
   "outputs": [
    {
     "name": "stdout",
     "output_type": "stream",
     "text": [
      "DecisionTreeClassifier(): 0.36363636363636365\n",
      "LogisticRegression(max_iter=1000): 0.7272727272727273\n",
      "KNeighborsClassifier(): 0.36363636363636365\n",
      "SVC(): 0.42424242424242425\n",
      "\n",
      "DecisionTreeClassifier(): 0.36363636363636365\n",
      "LogisticRegression(max_iter=1000): 0.7272727272727273\n",
      "KNeighborsClassifier(): 0.36363636363636365\n",
      "SVC(): 0.42424242424242425\n"
     ]
    }
   ],
   "source": [
    "for model in models:\n",
    "    print(model, (newNSEI[str(model)] == newNSEI['classifier']).sum() / newNSEI['classifier'].count(), sep=\": \")\n",
    "print()\n",
    "for model in models:\n",
    "    print(model, accuracy_score(newNSEI[str(model)], newNSEI['classifier']), sep=\": \")"
   ]
  }
 ],
 "metadata": {
  "kernelspec": {
   "display_name": "Python 3",
   "language": "python",
   "name": "python3"
  },
  "language_info": {
   "codemirror_mode": {
    "name": "ipython",
    "version": 3
   },
   "file_extension": ".py",
   "mimetype": "text/x-python",
   "name": "python",
   "nbconvert_exporter": "python",
   "pygments_lexer": "ipython3",
   "version": "3.13.0"
  }
 },
 "nbformat": 4,
 "nbformat_minor": 2
}
