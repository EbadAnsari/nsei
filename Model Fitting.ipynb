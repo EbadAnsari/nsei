{
 "cells": [
  {
   "cell_type": "code",
   "execution_count": 13,
   "metadata": {},
   "outputs": [],
   "source": [
    "import pandas as pd\n",
    "import numpy as np\n",
    "\n",
    "from sklearn.tree import DecisionTreeClassifier\n",
    "from sklearn.linear_model import LogisticRegression\n",
    "from sklearn.neighbors import KNeighborsClassifier\n",
    "from sklearn.svm import SVC\n",
    "\n",
    "from sklearn.model_selection import GridSearchCV\n",
    "\n",
    "from sklearn.metrics import accuracy_score\n",
    "\n",
    "from scipy import stats"
   ]
  },
  {
   "cell_type": "code",
   "execution_count": 14,
   "metadata": {},
   "outputs": [],
   "source": [
    "df = pd.read_csv(\"New NSEI.csv\")"
   ]
  },
  {
   "cell_type": "code",
   "execution_count": null,
   "metadata": {},
   "outputs": [],
   "source": [
    "df.drop(columns=\"Adj Close\")"
   ]
  },
  {
   "cell_type": "code",
   "execution_count": 16,
   "metadata": {},
   "outputs": [],
   "source": [
    "df['Date'] = pd.to_datetime(df['Date'])"
   ]
  },
  {
   "cell_type": "code",
   "execution_count": 17,
   "metadata": {},
   "outputs": [],
   "source": [
    "def ruleOne(row):\n",
    "    if row['Open'] > row['Close']:\n",
    "        return 1\n",
    "    return 0\n",
    "\n",
    "\n",
    "def ruleTwo(row):\n",
    "    if row['Open'] == row['Low']:\n",
    "        return 0\n",
    "    elif row['Open'] == row['High']:\n",
    "        return 1\n",
    "    elif row['Open'] > np.mean([row['High'], row['Low']]):\n",
    "        return 0\n",
    "    return 1\n",
    "\n",
    "\n",
    "def ruleThree(row):\n",
    "    if row['TP'] < row['TP'].shift(1):\n",
    "        return 1\n",
    "    return 0\n",
    "\n",
    "def tp(row):\n",
    "    return row[['High', 'Low', 'Close']].mean(axis=1)"
   ]
  },
  {
   "cell_type": "code",
   "execution_count": 19,
   "metadata": {},
   "outputs": [
    {
     "data": {
      "application/vnd.microsoft.datawrangler.viewer.v0+json": {
       "columns": [
        {
         "name": "index",
         "rawType": "int64",
         "type": "integer"
        },
        {
         "name": "Date",
         "rawType": "datetime64[ns]",
         "type": "datetime"
        },
        {
         "name": "Open",
         "rawType": "float64",
         "type": "float"
        },
        {
         "name": "High",
         "rawType": "float64",
         "type": "float"
        },
        {
         "name": "Low",
         "rawType": "float64",
         "type": "float"
        },
        {
         "name": "Close",
         "rawType": "float64",
         "type": "float"
        },
        {
         "name": "Adj Close",
         "rawType": "float64",
         "type": "float"
        },
        {
         "name": "Volume",
         "rawType": "float64",
         "type": "float"
        },
        {
         "name": "Rule 1",
         "rawType": "int64",
         "type": "integer"
        },
        {
         "name": "Rule 2",
         "rawType": "int64",
         "type": "integer"
        }
       ],
       "conversionMethod": "pd.DataFrame",
       "ref": "0d1c7477-3c6c-4809-9fa1-88c24d060e1f",
       "rows": [
        [
         "0",
         "2025-03-07 00:00:00",
         "22508.65",
         "22633.8",
         "22464.75",
         "22552.5",
         "22552.5",
         "289800.0",
         "0",
         "1"
        ],
        [
         "1",
         "2025-03-06 00:00:00",
         "22476.35",
         "22556.45",
         "22245.85",
         "22544.7",
         "22544.7",
         "372100.0",
         "0",
         "0"
        ],
        [
         "2",
         "2025-03-05 00:00:00",
         "22073.05",
         "22394.9",
         "22067.8",
         "22337.3",
         "22337.3",
         "305900.0",
         "0",
         "1"
        ],
        [
         "3",
         "2025-03-04 00:00:00",
         "21974.45",
         "22105.05",
         "21964.6",
         "22082.65",
         "22082.65",
         "253300.0",
         "0",
         "1"
        ],
        [
         "4",
         "2025-03-03 00:00:00",
         "22194.55",
         "22261.55",
         "22004.7",
         "22119.3",
         "22119.3",
         "282400.0",
         "1",
         "0"
        ]
       ],
       "shape": {
        "columns": 9,
        "rows": 5
       }
      },
      "text/html": [
       "<div>\n",
       "<style scoped>\n",
       "    .dataframe tbody tr th:only-of-type {\n",
       "        vertical-align: middle;\n",
       "    }\n",
       "\n",
       "    .dataframe tbody tr th {\n",
       "        vertical-align: top;\n",
       "    }\n",
       "\n",
       "    .dataframe thead th {\n",
       "        text-align: right;\n",
       "    }\n",
       "</style>\n",
       "<table border=\"1\" class=\"dataframe\">\n",
       "  <thead>\n",
       "    <tr style=\"text-align: right;\">\n",
       "      <th></th>\n",
       "      <th>Date</th>\n",
       "      <th>Open</th>\n",
       "      <th>High</th>\n",
       "      <th>Low</th>\n",
       "      <th>Close</th>\n",
       "      <th>Adj Close</th>\n",
       "      <th>Volume</th>\n",
       "      <th>Rule 1</th>\n",
       "      <th>Rule 2</th>\n",
       "    </tr>\n",
       "  </thead>\n",
       "  <tbody>\n",
       "    <tr>\n",
       "      <th>0</th>\n",
       "      <td>2025-03-07</td>\n",
       "      <td>22508.65</td>\n",
       "      <td>22633.80</td>\n",
       "      <td>22464.75</td>\n",
       "      <td>22552.50</td>\n",
       "      <td>22552.50</td>\n",
       "      <td>289800.0</td>\n",
       "      <td>0</td>\n",
       "      <td>1</td>\n",
       "    </tr>\n",
       "    <tr>\n",
       "      <th>1</th>\n",
       "      <td>2025-03-06</td>\n",
       "      <td>22476.35</td>\n",
       "      <td>22556.45</td>\n",
       "      <td>22245.85</td>\n",
       "      <td>22544.70</td>\n",
       "      <td>22544.70</td>\n",
       "      <td>372100.0</td>\n",
       "      <td>0</td>\n",
       "      <td>0</td>\n",
       "    </tr>\n",
       "    <tr>\n",
       "      <th>2</th>\n",
       "      <td>2025-03-05</td>\n",
       "      <td>22073.05</td>\n",
       "      <td>22394.90</td>\n",
       "      <td>22067.80</td>\n",
       "      <td>22337.30</td>\n",
       "      <td>22337.30</td>\n",
       "      <td>305900.0</td>\n",
       "      <td>0</td>\n",
       "      <td>1</td>\n",
       "    </tr>\n",
       "    <tr>\n",
       "      <th>3</th>\n",
       "      <td>2025-03-04</td>\n",
       "      <td>21974.45</td>\n",
       "      <td>22105.05</td>\n",
       "      <td>21964.60</td>\n",
       "      <td>22082.65</td>\n",
       "      <td>22082.65</td>\n",
       "      <td>253300.0</td>\n",
       "      <td>0</td>\n",
       "      <td>1</td>\n",
       "    </tr>\n",
       "    <tr>\n",
       "      <th>4</th>\n",
       "      <td>2025-03-03</td>\n",
       "      <td>22194.55</td>\n",
       "      <td>22261.55</td>\n",
       "      <td>22004.70</td>\n",
       "      <td>22119.30</td>\n",
       "      <td>22119.30</td>\n",
       "      <td>282400.0</td>\n",
       "      <td>1</td>\n",
       "      <td>0</td>\n",
       "    </tr>\n",
       "  </tbody>\n",
       "</table>\n",
       "</div>"
      ],
      "text/plain": [
       "        Date      Open      High       Low     Close  Adj Close    Volume  \\\n",
       "0 2025-03-07  22508.65  22633.80  22464.75  22552.50   22552.50  289800.0   \n",
       "1 2025-03-06  22476.35  22556.45  22245.85  22544.70   22544.70  372100.0   \n",
       "2 2025-03-05  22073.05  22394.90  22067.80  22337.30   22337.30  305900.0   \n",
       "3 2025-03-04  21974.45  22105.05  21964.60  22082.65   22082.65  253300.0   \n",
       "4 2025-03-03  22194.55  22261.55  22004.70  22119.30   22119.30  282400.0   \n",
       "\n",
       "   Rule 1  Rule 2  \n",
       "0       0       1  \n",
       "1       0       0  \n",
       "2       0       1  \n",
       "3       0       1  \n",
       "4       1       0  "
      ]
     },
     "execution_count": 19,
     "metadata": {},
     "output_type": "execute_result"
    }
   ],
   "source": [
    "df.head()"
   ]
  },
  {
   "cell_type": "code",
   "execution_count": 22,
   "metadata": {},
   "outputs": [],
   "source": [
    "df['Rule 1'] = df.apply(ruleOne, axis=1)\n",
    "df['Rule 2'] = df.apply(ruleTwo, axis=1)\n",
    "df['TP'] = df[['High', 'Low', 'Close']].mean(axis=1)\n",
    "df['Rule 3'] = (df['TP'] < df['TP'].shift(1)).astype(int)\n",
    "df['classifier'] = stats.mode(df[['Rule 1', 'Rule 2', 'Rule 3']], axis=1).mode"
   ]
  },
  {
   "cell_type": "code",
   "execution_count": null,
   "metadata": {},
   "outputs": [],
   "source": [
    "df.head()"
   ]
  },
  {
   "cell_type": "code",
   "execution_count": null,
   "metadata": {},
   "outputs": [],
   "source": [
    "# df.to_csv(\"NSEI (Rules).csv\", index=False)"
   ]
  },
  {
   "cell_type": "code",
   "execution_count": null,
   "metadata": {},
   "outputs": [],
   "source": [
    "dateSplit = pd.to_datetime('01-01-2025', format=\"%d-%m-%Y\")\n",
    "newNSEI = df[df['Date'] >= dateSplit]\n",
    "oldNSEI = df[df['Date'] < dateSplit]"
   ]
  },
  {
   "cell_type": "code",
   "execution_count": null,
   "metadata": {},
   "outputs": [],
   "source": [
    "oldNSEI[['Rule 1', 'Rule 2', 'TP', 'Rule 3']].head()"
   ]
  },
  {
   "cell_type": "markdown",
   "metadata": {},
   "source": [
    "#### Hyper Parameter Tuning"
   ]
  },
  {
   "cell_type": "code",
   "execution_count": null,
   "metadata": {},
   "outputs": [],
   "source": [
    "params = [\n",
    "\t{\n",
    "\t\t\"model\": DecisionTreeClassifier(),\n",
    "\t\t\"params\": {\n",
    "\t\t\t\"criterion\": [\"gini\", \"entropy\"],\n",
    "\t\t\t\"splitter\": [\"best\", \"random\"],\n",
    "\t\t\t\"max_depth\": [2, 3, 4, 5, 6, 7, 8, 9, 10],\n",
    "\t\t\t\"min_samples_split\": [2, 3, 4, 5, 6, 7, 8, 9, 10],\n",
    "\t\t\t\"min_samples_leaf\": [1, 2, 3, 4, 5, 6, 7, 8, 9, 10]\n",
    "\t\t},\n",
    "\t},\n",
    "\t{\n",
    "\t\t\"model\": LogisticRegression(max_iter=1000),\n",
    "\t\t\"params\": {\n",
    "\t\t\t\"penalty\": [\"l1\", \"l2\"],\n",
    "\t\t\t\"C\": [0.1, 0.2, 0.3, 0.4, 0.5, 0.6, 0.7, 0.8, 0.9, 1.0],\n",
    "\t\t\t\"solver\": [\"liblinear\", \"saga\"],\n",
    "\t\t\t\"max_iter\": [100, 200, 300, 400, 500, 600, 700, 800, 900, 1000]\n",
    "\t\t},\n",
    "\t},\n",
    "\t{\n",
    "\t\t\"model\": KNeighborsClassifier(),\n",
    "\t\t\"params\": {\n",
    "\t\t\t\"n_neighbors\": [5, 7, 9, 11, 13, 15],\n",
    "\t\t\t\"weights\": [\"uniform\", \"distance\"],\n",
    "\t\t\t\"metric\": [\"minkowski\", \"euclidean\", \"manhattan\"]\n",
    "\t\t},\n",
    "\t},\n",
    "\t{\n",
    "\t\t\"model\": SVC(),\n",
    "\t\t\"params\": {\n",
    "\t\t\t\"C\": [0.1, 0.2, 0.3, 0.4, 0.5, 0.6, 0.7, 0.8, 0.9, 1.0],\n",
    "\t\t\t\"kernel\": [\"linear\", \"poly\", \"rbf\", \"sigmoid\"],\n",
    "\t\t\t\"gamma\": [\"scale\", \"auto\"],\n",
    "\t\t\t\"decision_function_shape\": [\"ovo\", \"ovr\"]\n",
    "\t\t}\n",
    "\t}\n",
    "]"
   ]
  },
  {
   "cell_type": "code",
   "execution_count": null,
   "metadata": {},
   "outputs": [],
   "source": [
    "bestParams = []\n",
    "tune = False\n",
    "if tune:\n",
    "\tfor param in params:\n",
    "\t\tgs = GridSearchCV(param['model'], param['params'], cv=3)\n",
    "\t\tgs.fit(newNSEI[['Open', 'High', 'Low', 'Close']], newNSEI['classifier'])\n",
    "\t\tbestParams.append({'param': gs.best_params_, 'score': gs.best_score_, 'model': param['model'] })"
   ]
  },
  {
   "cell_type": "markdown",
   "metadata": {},
   "source": [
    "#### Model fitting"
   ]
  },
  {
   "cell_type": "code",
   "execution_count": null,
   "metadata": {},
   "outputs": [],
   "source": [
    "models = []\n",
    "for i, param in enumerate(params):\n",
    "    models.append(param['model'])\n",
    "    models[i].fit(oldNSEI[['Open', 'High', 'Low', 'Close']], oldNSEI['classifier'])"
   ]
  },
  {
   "cell_type": "code",
   "execution_count": null,
   "metadata": {},
   "outputs": [],
   "source": [
    "for model in models:\n",
    "    newNSEI[str(model)] = model.predict(newNSEI[['Open', 'High', 'Low', 'Close']])"
   ]
  },
  {
   "cell_type": "code",
   "execution_count": null,
   "metadata": {},
   "outputs": [],
   "source": [
    "newNSEI[['classifier', str(models[0]), str(models[1]), str(models[2]), str(models[3])]]"
   ]
  },
  {
   "cell_type": "code",
   "execution_count": null,
   "metadata": {},
   "outputs": [],
   "source": [
    "for model in models:\n",
    "    print(model, (newNSEI[str(model)] == newNSEI['classifier']).sum() / newNSEI['classifier'].count(), sep=\": \")\n",
    "print()\n",
    "for model in models:\n",
    "    print(model, accuracy_score(newNSEI[str(model)], newNSEI['classifier']), sep=\": \")"
   ]
  }
 ],
 "metadata": {
  "kernelspec": {
   "display_name": "Python 3",
   "language": "python",
   "name": "python3"
  },
  "language_info": {
   "codemirror_mode": {
    "name": "ipython",
    "version": 3
   },
   "file_extension": ".py",
   "mimetype": "text/x-python",
   "name": "python",
   "nbconvert_exporter": "python",
   "pygments_lexer": "ipython3",
   "version": "3.13.0"
  }
 },
 "nbformat": 4,
 "nbformat_minor": 2
}
