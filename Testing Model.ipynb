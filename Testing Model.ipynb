{
 "cells": [
  {
   "cell_type": "code",
   "execution_count": null,
   "metadata": {},
   "outputs": [],
   "source": [
    "import pandas as pd\n",
    "import numpy as np\n",
    "\n",
    "from sklearn.linear_model import LogisticRegression\n",
    "from sklearn.tree import DecisionTreeClassifier\n",
    "from sklearn.neighbors import KNeighborsClassifier\n",
    "from sklearn.svm import SVC\n"
   ]
  },
  {
   "cell_type": "code",
   "execution_count": null,
   "metadata": {},
   "outputs": [],
   "source": [
    "df = pd.read_csv(\"NESI DATASET JAN 2.csv\")\n",
    "\n"
   ]
  },
  {
   "cell_type": "code",
   "execution_count": null,
   "metadata": {},
   "outputs": [
    {
     "data": {
      "application/vnd.microsoft.datawrangler.viewer.v0+json": {
       "columns": [
        {
         "name": "index",
         "rawType": "int64",
         "type": "integer"
        },
        {
         "name": "Date",
         "rawType": "object",
         "type": "string"
        },
        {
         "name": "Open",
         "rawType": "object",
         "type": "string"
        },
        {
         "name": "High",
         "rawType": "object",
         "type": "string"
        },
        {
         "name": "Low",
         "rawType": "object",
         "type": "string"
        },
        {
         "name": "Close ",
         "rawType": "object",
         "type": "string"
        },
        {
         "name": "Volume",
         "rawType": "object",
         "type": "string"
        },
        {
         "name": "RULE 1",
         "rawType": "int64",
         "type": "integer"
        },
        {
         "name": "RULE 2 ",
         "rawType": "int64",
         "type": "integer"
        },
        {
         "name": "TP",
         "rawType": "float64",
         "type": "float"
        },
        {
         "name": "RULE 3",
         "rawType": "int64",
         "type": "integer"
        },
        {
         "name": "CLASSIFIER",
         "rawType": "int64",
         "type": "integer"
        }
       ],
       "conversionMethod": "pd.DataFrame",
       "ref": "f062d9f6-736f-4dcd-b5a5-27ceb53e9629",
       "rows": [
        [
         "0",
         "Feb 18, 2025",
         "22,963.65",
         "22,992.50",
         "22,801.50",
         "22,945.30",
         "2,10,600",
         "0",
         "1",
         "22913.1",
         "0",
         "0"
        ],
        [
         "1",
         "Feb 17, 2025",
         "22,809.90",
         "22,974.20",
         "22,725.45",
         "22,959.50",
         "2,07,400",
         "1",
         "0",
         "22886.38333",
         "0",
         "0"
        ],
        [
         "2",
         "Feb 14, 2025",
         "23,096.45",
         "23,133.70",
         "22,774.85",
         "22,929.25",
         "2,54,500",
         "0",
         "1",
         "22945.93333",
         "1",
         "1"
        ],
        [
         "3",
         "Feb 13, 2025",
         "23,055.75",
         "23,235.50",
         "22,992.20",
         "23,031.40",
         "2,65,700",
         "0",
         "0",
         "23086.36667",
         "1",
         "0"
        ],
        [
         "4",
         "Feb 12, 2025",
         "23,050.80",
         "23,144.70",
         "23,144.70",
         "22,798.35",
         "23,045.25",
         "0",
         "0",
         "23029.25",
         "0",
         "0"
        ]
       ],
       "shape": {
        "columns": 11,
        "rows": 5
       }
      },
      "text/html": [
       "<div>\n",
       "<style scoped>\n",
       "    .dataframe tbody tr th:only-of-type {\n",
       "        vertical-align: middle;\n",
       "    }\n",
       "\n",
       "    .dataframe tbody tr th {\n",
       "        vertical-align: top;\n",
       "    }\n",
       "\n",
       "    .dataframe thead th {\n",
       "        text-align: right;\n",
       "    }\n",
       "</style>\n",
       "<table border=\"1\" class=\"dataframe\">\n",
       "  <thead>\n",
       "    <tr style=\"text-align: right;\">\n",
       "      <th></th>\n",
       "      <th>Date</th>\n",
       "      <th>Open</th>\n",
       "      <th>High</th>\n",
       "      <th>Low</th>\n",
       "      <th>Close</th>\n",
       "      <th>Volume</th>\n",
       "      <th>RULE 1</th>\n",
       "      <th>RULE 2</th>\n",
       "      <th>TP</th>\n",
       "      <th>RULE 3</th>\n",
       "      <th>CLASSIFIER</th>\n",
       "    </tr>\n",
       "  </thead>\n",
       "  <tbody>\n",
       "    <tr>\n",
       "      <th>0</th>\n",
       "      <td>Feb 18, 2025</td>\n",
       "      <td>22,963.65</td>\n",
       "      <td>22,992.50</td>\n",
       "      <td>22,801.50</td>\n",
       "      <td>22,945.30</td>\n",
       "      <td>2,10,600</td>\n",
       "      <td>0</td>\n",
       "      <td>1</td>\n",
       "      <td>22913.10000</td>\n",
       "      <td>0</td>\n",
       "      <td>0</td>\n",
       "    </tr>\n",
       "    <tr>\n",
       "      <th>1</th>\n",
       "      <td>Feb 17, 2025</td>\n",
       "      <td>22,809.90</td>\n",
       "      <td>22,974.20</td>\n",
       "      <td>22,725.45</td>\n",
       "      <td>22,959.50</td>\n",
       "      <td>2,07,400</td>\n",
       "      <td>1</td>\n",
       "      <td>0</td>\n",
       "      <td>22886.38333</td>\n",
       "      <td>0</td>\n",
       "      <td>0</td>\n",
       "    </tr>\n",
       "    <tr>\n",
       "      <th>2</th>\n",
       "      <td>Feb 14, 2025</td>\n",
       "      <td>23,096.45</td>\n",
       "      <td>23,133.70</td>\n",
       "      <td>22,774.85</td>\n",
       "      <td>22,929.25</td>\n",
       "      <td>2,54,500</td>\n",
       "      <td>0</td>\n",
       "      <td>1</td>\n",
       "      <td>22945.93333</td>\n",
       "      <td>1</td>\n",
       "      <td>1</td>\n",
       "    </tr>\n",
       "    <tr>\n",
       "      <th>3</th>\n",
       "      <td>Feb 13, 2025</td>\n",
       "      <td>23,055.75</td>\n",
       "      <td>23,235.50</td>\n",
       "      <td>22,992.20</td>\n",
       "      <td>23,031.40</td>\n",
       "      <td>2,65,700</td>\n",
       "      <td>0</td>\n",
       "      <td>0</td>\n",
       "      <td>23086.36667</td>\n",
       "      <td>1</td>\n",
       "      <td>0</td>\n",
       "    </tr>\n",
       "    <tr>\n",
       "      <th>4</th>\n",
       "      <td>Feb 12, 2025</td>\n",
       "      <td>23,050.80</td>\n",
       "      <td>23,144.70</td>\n",
       "      <td>23,144.70</td>\n",
       "      <td>22,798.35</td>\n",
       "      <td>23,045.25</td>\n",
       "      <td>0</td>\n",
       "      <td>0</td>\n",
       "      <td>23029.25000</td>\n",
       "      <td>0</td>\n",
       "      <td>0</td>\n",
       "    </tr>\n",
       "  </tbody>\n",
       "</table>\n",
       "</div>"
      ],
      "text/plain": [
       "           Date       Open       High        Low     Close      Volume  \\\n",
       "0  Feb 18, 2025  22,963.65  22,992.50  22,801.50  22,945.30   2,10,600   \n",
       "1  Feb 17, 2025  22,809.90  22,974.20  22,725.45  22,959.50   2,07,400   \n",
       "2  Feb 14, 2025  23,096.45  23,133.70  22,774.85  22,929.25   2,54,500   \n",
       "3  Feb 13, 2025  23,055.75  23,235.50  22,992.20  23,031.40   2,65,700   \n",
       "4  Feb 12, 2025  23,050.80  23,144.70  23,144.70  22,798.35  23,045.25   \n",
       "\n",
       "   RULE 1  RULE 2            TP  RULE 3  CLASSIFIER  \n",
       "0       0        1  22913.10000       0           0  \n",
       "1       1        0  22886.38333       0           0  \n",
       "2       0        1  22945.93333       1           1  \n",
       "3       0        0  23086.36667       1           0  \n",
       "4       0        0  23029.25000       0           0  "
      ]
     },
     "execution_count": 3,
     "metadata": {},
     "output_type": "execute_result"
    }
   ],
   "source": [
    "#            Date       Open       High        Low     Close      Volume  \\\n",
    "# 0  Feb 18, 2025  22,963.65  22,992.50  22,801.50  22,945.30   2,10,600   \n",
    "# 1  Feb 17, 2025  22,809.90  22,974.20  22,725.45  22,959.50   2,07,400   \n",
    "# 2  Feb 14, 2025  23,096.45  23,133.70  22,774.85  22,929.25   2,54,500   \n",
    "# 3  Feb 13, 2025  23,055.75  23,235.50  22,992.20  23,031.40   2,65,700   \n",
    "# 4  Feb 12, 2025  23,050.80  23,144.70  23,144.70  22,798.35  23,045.25   \n",
    "\n",
    "#    RULE 1  RULE 2            TP  RULE 3  CLASSIFIER  \n",
    "# 0       0        1  22913.10000       0           0  \n",
    "# 1       1        0  22886.38333       0           0  \n",
    "# 2       0        1  22945.93333       1           1  \n",
    "# 3       0        0  23086.36667       1           0  \n",
    "# 4       0        0  23029.25000       0           0 \n",
    "\n",
    "df.head()"
   ]
  },
  {
   "cell_type": "code",
   "execution_count": null,
   "metadata": {},
   "outputs": [],
   "source": [
    "df = pd.read_csv(\"NSEI.csv\")"
   ]
  }
 ],
 "metadata": {
  "kernelspec": {
   "display_name": "Python 3",
   "language": "python",
   "name": "python3"
  },
  "language_info": {
   "codemirror_mode": {
    "name": "ipython",
    "version": 3
   },
   "file_extension": ".py",
   "mimetype": "text/x-python",
   "name": "python",
   "nbconvert_exporter": "python",
   "pygments_lexer": "ipython3",
   "version": "3.13.0"
  }
 },
 "nbformat": 4,
 "nbformat_minor": 2
}
